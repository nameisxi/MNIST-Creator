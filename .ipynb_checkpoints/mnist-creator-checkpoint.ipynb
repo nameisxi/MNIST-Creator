{
 "cells": [
  {
   "cell_type": "code",
   "execution_count": 12,
   "metadata": {},
   "outputs": [],
   "source": [
    "import numpy as np\n",
    "import math\n",
    "from PIL import Image\n",
    "import cv2\n",
    "from matplotlib import pyplot as plt"
   ]
  },
  {
   "cell_type": "code",
   "execution_count": 253,
   "metadata": {},
   "outputs": [],
   "source": [
    "# TODO:\n",
    "# Get rid of Pillow\n",
    "# Add datatype and file format checks\n",
    "# Modify cropping method to simpler and more accurate color similarity based version\n",
    "# Get rid of unnecesarry file writed and reads"
   ]
  },
  {
   "cell_type": "code",
   "execution_count": 13,
   "metadata": {},
   "outputs": [],
   "source": [
    "def get_as_png(file_name):\n",
    "    '''Converts the input image to PNG format.'''\n",
    "    image = Image.open(file_name)\n",
    "    image.save('image-to-classify.png')\n",
    "    image = Image.open('image-to-classify.png')\n",
    "    return image"
   ]
  },
  {
   "cell_type": "code",
   "execution_count": 14,
   "metadata": {},
   "outputs": [],
   "source": [
    "def crop(file_name):\n",
    "    im = cv2.imread(file_name)\n",
    "    imgray = cv2.cvtColor(im,cv2.COLOR_BGR2GRAY)\n",
    "    imgray = cv2.blur(imgray,(15,15))\n",
    "    ret,thresh = cv2.threshold(imgray,math.floor(np.average(imgray)),255,cv2.THRESH_BINARY_INV)\n",
    "    dilated = cv2.morphologyEx(thresh, cv2.MORPH_OPEN, cv2.getStructuringElement(cv2.MORPH_ELLIPSE,(10,10)))\n",
    "    _, contours, _ = cv2.findContours(dilated,cv2.RETR_LIST,cv2.CHAIN_APPROX_SIMPLE)\n",
    "    \n",
    "    height, width, channels = im.shape\n",
    "    \n",
    "    new_contours = []\n",
    "    for c in contours:\n",
    "        if cv2.contourArea(c) < (width * height):\n",
    "            new_contours.append(c)\n",
    "    \n",
    "    best_box = [-1, -1, -1, -1]\n",
    "    for c in new_contours:\n",
    "        x,y,w,h = cv2.boundingRect(c)\n",
    "        if (w * h) > (best_box[2] * best_box[3]):\n",
    "            best_box = [x, y, w, h]\n",
    "    print(best_box)\n",
    "    final_img = im[best_box[1]:best_box[3], best_box[0]:best_box[2]]\n",
    "    cv2.imwrite('result.png', final_img)"
   ]
  },
  {
   "cell_type": "code",
   "execution_count": 28,
   "metadata": {},
   "outputs": [],
   "source": [
    "def resize_longest_edge(file_name):\n",
    "    '''Resizes the longest edge to 28 pixels by subsampling the pixels and\n",
    "       scales the shorter edge accordingly.\n",
    "    '''\n",
    "    image = cv2.imread(file_name)\n",
    "    height, width, channels = image.shape\n",
    "    if height >= width:\n",
    "        new_width = int((width / height) * 28)\n",
    "        image = cv2.resize(image, (new_width, 28))\n",
    "    else:\n",
    "        new_height = int((height / width) * width)\n",
    "        image = cv2.resize(image, (28, new_height))\n",
    "    return image"
   ]
  },
  {
   "cell_type": "code",
   "execution_count": 29,
   "metadata": {},
   "outputs": [],
   "source": [
    "def sharpen_pixels(image):\n",
    "    '''Sharpens pixels using a Gaussian operator of the radius and\n",
    "       standard deviation of 1.0.\n",
    "    '''\n",
    "    pass"
   ]
  },
  {
   "cell_type": "code",
   "execution_count": 179,
   "metadata": {},
   "outputs": [],
   "source": [
    "def extend_shortest_edge(image):\n",
    "    '''Extends the shortest edge to 28 pixels and centers the new image.'''\n",
    "    height, width, channels = image.shape\n",
    "    image_data = np.asarray(image)\n",
    "    upper_left_pixel = image_data[0, 0]\n",
    "    upper_right_pixel = image_data[0, width - 1]\n",
    "    background = np.zeros((28, 28, 3), np.uint8)\n",
    "    background[:, 0:28 // 2] = (upper_left_pixel[0],upper_left_pixel[1],upper_left_pixel[2])\n",
    "    background[:,28 // 2:] = (upper_right_pixel[0],upper_right_pixel[1],upper_right_pixel[2])\n",
    "    x_offset = (28 - width) // 2\n",
    "    y_offset = 0\n",
    "    background[y_offset:(y_offset + height), x_offset:(x_offset + width)] = image\n",
    "    return background"
   ]
  },
  {
   "cell_type": "code",
   "execution_count": 217,
   "metadata": {},
   "outputs": [],
   "source": [
    "def negate_intensities(image):\n",
    "    height, width, channels = image.shape\n",
    "    image_data = np.asarray(image)\n",
    "    for row in range(height):\n",
    "        for col in range(width):\n",
    "            red = 255 - image_data[row, col][0]\n",
    "            green = 255 - image_data[row, col][1]\n",
    "            blue = 255 - image_data[row, col][2]\n",
    "            image_data[row, col] = [red,green,blue]\n",
    "    return image_data"
   ]
  },
  {
   "cell_type": "code",
   "execution_count": 245,
   "metadata": {},
   "outputs": [],
   "source": [
    "def convert_to_grayscale(image):\n",
    "    '''Converts given pixels to 8-bit grayscale pixels.'''\n",
    "    return cv2.cvtColor(image, cv2.COLOR_BGR2GRAY)"
   ]
  },
  {
   "cell_type": "code",
   "execution_count": 197,
   "metadata": {},
   "outputs": [],
   "source": [
    "_ = get_as_png('test-shirt5.jpg')\n"
   ]
  },
  {
   "cell_type": "code",
   "execution_count": 198,
   "metadata": {},
   "outputs": [],
   "source": [
    "resized = resize_longest_edge('image-to-classify.png')"
   ]
  },
  {
   "cell_type": "code",
   "execution_count": 200,
   "metadata": {},
   "outputs": [
    {
     "data": {
      "text/plain": [
       "(28, 25, 3)"
      ]
     },
     "execution_count": 200,
     "metadata": {},
     "output_type": "execute_result"
    }
   ],
   "source": [
    "image_data = np.asarray(resized)\n",
    "image_data.shape"
   ]
  },
  {
   "cell_type": "code",
   "execution_count": 201,
   "metadata": {},
   "outputs": [
    {
     "data": {
      "text/plain": [
       "<matplotlib.image.AxesImage at 0x7f00ad674860>"
      ]
     },
     "execution_count": 201,
     "metadata": {},
     "output_type": "execute_result"
    },
    {
     "data": {
      "image/png": "[encoded data removed]",
      "text/plain": [
       "<Figure size 432x288 with 1 Axes>"
      ]
     },
     "metadata": {},
     "output_type": "display_data"
    }
   ],
   "source": [
    "plt.imshow(image_data)"
   ]
  },
  {
   "cell_type": "code",
   "execution_count": 202,
   "metadata": {},
   "outputs": [],
   "source": [
    "extended = extend_shortest_edge(resized)"
   ]
  },
  {
   "cell_type": "code",
   "execution_count": 203,
   "metadata": {},
   "outputs": [
    {
     "data": {
      "text/plain": [
       "<matplotlib.image.AxesImage at 0x7f00ad64b5c0>"
      ]
     },
     "execution_count": 203,
     "metadata": {},
     "output_type": "execute_result"
    },
    {
     "data": {
      "image/png": "[encoded data removed]",
      "text/plain": [
       "<Figure size 432x288 with 1 Axes>"
      ]
     },
     "metadata": {},
     "output_type": "display_data"
    }
   ],
   "source": [
    "image_data = np.asarray(extended)\n",
    "plt.imshow(image_data)"
   ]
  },
  {
   "cell_type": "code",
   "execution_count": 236,
   "metadata": {},
   "outputs": [],
   "source": [
    "negative = negate_intensities(extended)"
   ]
  },
  {
   "cell_type": "code",
   "execution_count": 237,
   "metadata": {},
   "outputs": [
    {
     "data": {
      "text/plain": [
       "<matplotlib.image.AxesImage at 0x7f00ad2965c0>"
      ]
     },
     "execution_count": 237,
     "metadata": {},
     "output_type": "execute_result"
    },
    {
     "data": {
      "image/png": "[encoded data removed]",
      "text/plain": [
       "<Figure size 432x288 with 1 Axes>"
      ]
     },
     "metadata": {},
     "output_type": "display_data"
    }
   ],
   "source": [
    "plt.imshow(negative)"
   ]
  },
  {
   "cell_type": "code",
   "execution_count": 246,
   "metadata": {},
   "outputs": [],
   "source": [
    "grayscale = convert_to_grayscale(negative)"
   ]
  },
  {
   "cell_type": "code",
   "execution_count": 248,
   "metadata": {},
   "outputs": [
    {
     "data": {
      "text/plain": [
       "<matplotlib.image.AxesImage at 0x7f00ad111320>"
      ]
     },
     "execution_count": 248,
     "metadata": {},
     "output_type": "execute_result"
    },
    {
     "data": {
      "image/png": "[encoded data removed]",
      "text/plain": [
       "<Figure size 432x288 with 1 Axes>"
      ]
     },
     "metadata": {},
     "output_type": "display_data"
    }
   ],
   "source": [
    "plt.imshow(grayscale)"
   ]
  },
  {
   "cell_type": "code",
   "execution_count": 250,
   "metadata": {},
   "outputs": [
    {
     "data": {
      "text/plain": [
       "True"
      ]
     },
     "execution_count": 250,
     "metadata": {},
     "output_type": "execute_result"
    }
   ],
   "source": [
    "cv2.imwrite('grayscale-result.png', grayscale)"
   ]
  },
  {
   "cell_type": "code",
   "execution_count": null,
   "metadata": {},
   "outputs": [],
   "source": []
  }
 ],
 "metadata": {
  "kernelspec": {
   "display_name": "Python 3",
   "language": "python",
   "name": "python3"
  },
  "language_info": {
   "codemirror_mode": {
    "name": "ipython",
    "version": 3
   },
   "file_extension": ".py",
   "mimetype": "text/x-python",
   "name": "python",
   "nbconvert_exporter": "python",
   "pygments_lexer": "ipython3",
   "version": "3.6.5"
  }
 },
 "nbformat": 4,
 "nbformat_minor": 2
}
