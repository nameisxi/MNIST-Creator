{
 "cells": [
  {
   "cell_type": "code",
   "execution_count": 1,
   "metadata": {},
   "outputs": [],
   "source": [
    "import numpy as np\n",
    "from PIL import Image\n",
    "import cv2"
   ]
  },
  {
   "cell_type": "code",
   "execution_count": 2,
   "metadata": {},
   "outputs": [],
   "source": [
    "def get_as_png(file_name):\n",
    "    '''Converts the input image to PNG format.'''\n",
    "    image = Image.open(file_name)\n",
    "    image.save('image-to-classify.png')\n",
    "    image = Image.open('image-to-classify.png')\n",
    "    return image"
   ]
  },
  {
   "cell_type": "code",
   "execution_count": 3,
   "metadata": {},
   "outputs": [],
   "source": [
    "def trim_edges(image):\n",
    "    '''Trims edges that are close to the color of the corner pixels.\n",
    "       The closeness is defined by the distance within 5% of the maximum\n",
    "       possible intensity in RGB space.\n",
    "    '''\n",
    "    image_data = np.asarray(image)\n",
    "    # upper left corner\n",
    "    corner_pixel_1 = image_data[0, 0]\n",
    "    # upper right corner\n",
    "    corner_pixel_2 = image_data[0, image_data.shape[1] - 1]\n",
    "    # lower right corner\n",
    "    corner_pixel_3 = image_data[image_data.shape[0] - 1, image_data.shape[1] - 1]\n",
    "    # lower left corner\n",
    "    corner_pixel_4 = image_data[image_data.shape[0] - 1, 0]\n",
    "    \n",
    "    pass"
   ]
  },
  {
   "cell_type": "code",
   "execution_count": 4,
   "metadata": {},
   "outputs": [],
   "source": [
    "def crop(file_name):\n",
    "    image = cv2.imread(file_name)\n",
    "    gray = cv2.cvtColor(image, cv2.COLOR_BGR2GRAY)\n",
    "    edged = cv2.Canny(image, 10, 250)\n",
    "    (_, cnts, _) = cv2.findContours(edged.copy(), cv2.RETR_EXTERNAL, cv2.CHAIN_APPROX_SIMPLE)\n",
    "    idx = 0\n",
    "    for c in cnts:\n",
    "        x, y, w, h = cv2.boundingRect(c)\n",
    "        if w > 50 and h > 50:\n",
    "            idx += 1\n",
    "            new_img=image[y:y+h, x:x+w]\n",
    "            cv2.imwrite(str(idx) + 'cropped-image.png', new_img)"
   ]
  },
  {
   "cell_type": "code",
   "execution_count": 5,
   "metadata": {},
   "outputs": [],
   "source": [
    "def resize_longest_edge(image):\n",
    "    '''Resizes the longest edge to 28 pixels by subsampling the pixels and\n",
    "       scales the shorter edge accordingly.\n",
    "    '''\n",
    "    # remember to scale the shortest edge\n",
    "    pass"
   ]
  },
  {
   "cell_type": "code",
   "execution_count": 6,
   "metadata": {},
   "outputs": [],
   "source": [
    "def sharpen_pixels(image):\n",
    "    '''Sharpens pixels using a Gaussian operator of the radius and\n",
    "       standard deviation of 1.0.\n",
    "    '''\n",
    "    pass"
   ]
  },
  {
   "cell_type": "code",
   "execution_count": 7,
   "metadata": {},
   "outputs": [],
   "source": [
    "def resize_shortest_edge(image):\n",
    "    '''Extends the shortest edge to 28 pixels and centers the new image.'''\n",
    "    pass"
   ]
  },
  {
   "cell_type": "code",
   "execution_count": 8,
   "metadata": {},
   "outputs": [],
   "source": [
    "def negate_intensities(image):\n",
    "    '''Negates the intensities of pixels.'''\n",
    "    pass"
   ]
  },
  {
   "cell_type": "code",
   "execution_count": 9,
   "metadata": {},
   "outputs": [],
   "source": [
    "def convert_to_grayscale(image):\n",
    "    '''Converts given pixels to 8-bit grayscale pixels.'''\n",
    "    pass"
   ]
  },
  {
   "cell_type": "code",
   "execution_count": 10,
   "metadata": {},
   "outputs": [],
   "source": [
    "#png = get_as_png('test-shirt2.jpg')"
   ]
  },
  {
   "cell_type": "code",
   "execution_count": 11,
   "metadata": {},
   "outputs": [],
   "source": [
    "#trimmed_edges = trim_edges(png)"
   ]
  },
  {
   "cell_type": "code",
   "execution_count": null,
   "metadata": {},
   "outputs": [],
   "source": [
    "crop('test-shirt2.jpg')"
   ]
  },
  {
   "cell_type": "code",
   "execution_count": 16,
   "metadata": {},
   "outputs": [
    {
     "ename": "FileNotFoundError",
     "evalue": "[Errno 2] No such file or directory: 'cropped_image.png'",
     "output_type": "error",
     "traceback": [
      "\u001b[1;31m---------------------------------------------------------------------------\u001b[0m",
      "\u001b[1;31mFileNotFoundError\u001b[0m                         Traceback (most recent call last)",
      "\u001b[1;32m<ipython-input-16-3d1e2865db9f>\u001b[0m in \u001b[0;36m<module>\u001b[1;34m\u001b[0m\n\u001b[1;32m----> 1\u001b[1;33m \u001b[0mcropped_image\u001b[0m \u001b[1;33m=\u001b[0m \u001b[0mImage\u001b[0m\u001b[1;33m.\u001b[0m\u001b[0mopen\u001b[0m\u001b[1;33m(\u001b[0m\u001b[1;34m'cropped_image.png'\u001b[0m\u001b[1;33m)\u001b[0m\u001b[1;33m\u001b[0m\u001b[0m\n\u001b[0m",
      "\u001b[1;32m~\\Anaconda3\\envs\\mnist-creator\\lib\\site-packages\\PIL\\Image.py\u001b[0m in \u001b[0;36mopen\u001b[1;34m(fp, mode)\u001b[0m\n\u001b[0;32m   2607\u001b[0m \u001b[1;33m\u001b[0m\u001b[0m\n\u001b[0;32m   2608\u001b[0m     \u001b[1;32mif\u001b[0m \u001b[0mfilename\u001b[0m\u001b[1;33m:\u001b[0m\u001b[1;33m\u001b[0m\u001b[0m\n\u001b[1;32m-> 2609\u001b[1;33m         \u001b[0mfp\u001b[0m \u001b[1;33m=\u001b[0m \u001b[0mbuiltins\u001b[0m\u001b[1;33m.\u001b[0m\u001b[0mopen\u001b[0m\u001b[1;33m(\u001b[0m\u001b[0mfilename\u001b[0m\u001b[1;33m,\u001b[0m \u001b[1;34m\"rb\"\u001b[0m\u001b[1;33m)\u001b[0m\u001b[1;33m\u001b[0m\u001b[0m\n\u001b[0m\u001b[0;32m   2610\u001b[0m         \u001b[0mexclusive_fp\u001b[0m \u001b[1;33m=\u001b[0m \u001b[1;32mTrue\u001b[0m\u001b[1;33m\u001b[0m\u001b[0m\n\u001b[0;32m   2611\u001b[0m \u001b[1;33m\u001b[0m\u001b[0m\n",
      "\u001b[1;31mFileNotFoundError\u001b[0m: [Errno 2] No such file or directory: 'cropped_image.png'"
     ]
    }
   ],
   "source": [
    "cropped_image = Image.open('cropped_image.png')"
   ]
  },
  {
   "cell_type": "code",
   "execution_count": null,
   "metadata": {},
   "outputs": [],
   "source": []
  },
  {
   "cell_type": "code",
   "execution_count": null,
   "metadata": {},
   "outputs": [],
   "source": []
  },
  {
   "cell_type": "code",
   "execution_count": 9,
   "metadata": {},
   "outputs": [
    {
     "data": {
      "text/plain": [
       "(3264, 2448, 3)"
      ]
     },
     "execution_count": 9,
     "metadata": {},
     "output_type": "execute_result"
    }
   ],
   "source": [
    "image_data = np.asarray(image)\n",
    "image_data.shape"
   ]
  },
  {
   "cell_type": "code",
   "execution_count": 36,
   "metadata": {},
   "outputs": [
    {
     "data": {
      "text/plain": [
       "2448"
      ]
     },
     "execution_count": 36,
     "metadata": {},
     "output_type": "execute_result"
    }
   ],
   "source": [
    "last_column = image_data.shape[1]\n",
    "last_column"
   ]
  },
  {
   "cell_type": "code",
   "execution_count": 32,
   "metadata": {},
   "outputs": [
    {
     "data": {
      "text/plain": [
       "array([[[176, 151, 129],\n",
       "        [172, 147, 125],\n",
       "        [172, 145, 124],\n",
       "        ...,\n",
       "        [200, 166, 139],\n",
       "        [195, 161, 134],\n",
       "        [190, 156, 129]],\n",
       "\n",
       "       [[170, 145, 123],\n",
       "        [169, 144, 122],\n",
       "        [170, 143, 122],\n",
       "        ...,\n",
       "        [197, 163, 136],\n",
       "        [195, 161, 134],\n",
       "        [194, 160, 133]],\n",
       "\n",
       "       [[170, 145, 123],\n",
       "        [170, 145, 123],\n",
       "        [172, 145, 124],\n",
       "        ...,\n",
       "        [195, 161, 134],\n",
       "        [196, 162, 135],\n",
       "        [199, 165, 138]],\n",
       "\n",
       "       ...,\n",
       "\n",
       "       [[123,  85,  74],\n",
       "        [123,  87,  75],\n",
       "        [135,  99,  87],\n",
       "        ...,\n",
       "        [252, 226, 177],\n",
       "        [253, 227, 178],\n",
       "        [254, 228, 179]],\n",
       "\n",
       "       [[128,  90,  79],\n",
       "        [127,  91,  79],\n",
       "        [133,  97,  85],\n",
       "        ...,\n",
       "        [252, 226, 177],\n",
       "        [252, 226, 177],\n",
       "        [252, 226, 177]],\n",
       "\n",
       "       [[133,  95,  84],\n",
       "        [127,  91,  79],\n",
       "        [127,  91,  79],\n",
       "        ...,\n",
       "        [253, 227, 178],\n",
       "        [251, 225, 176],\n",
       "        [251, 225, 176]]], dtype=uint8)"
      ]
     },
     "execution_count": 32,
     "metadata": {},
     "output_type": "execute_result"
    }
   ],
   "source": [
    "image_data"
   ]
  },
  {
   "cell_type": "code",
   "execution_count": 34,
   "metadata": {},
   "outputs": [
    {
     "data": {
      "text/plain": [
       "array([176, 151, 129], dtype=uint8)"
      ]
     },
     "execution_count": 34,
     "metadata": {},
     "output_type": "execute_result"
    }
   ],
   "source": [
    "first_pixel = image_data[0, 0]\n",
    "first_pixel"
   ]
  },
  {
   "cell_type": "code",
   "execution_count": 12,
   "metadata": {},
   "outputs": [
    {
     "data": {
      "text/plain": [
       "2448"
      ]
     },
     "execution_count": 12,
     "metadata": {},
     "output_type": "execute_result"
    }
   ],
   "source": [
    "start_index = 0\n",
    "len(image_data)"
   ]
  },
  {
   "cell_type": "code",
   "execution_count": null,
   "metadata": {},
   "outputs": [],
   "source": [
    "resized = image_data[start_index::step_size]"
   ]
  }
 ],
 "metadata": {
  "kernelspec": {
   "display_name": "Python 3",
   "language": "python",
   "name": "python3"
  },
  "language_info": {
   "codemirror_mode": {
    "name": "ipython",
    "version": 3
   },
   "file_extension": ".py",
   "mimetype": "text/x-python",
   "name": "python",
   "nbconvert_exporter": "python",
   "pygments_lexer": "ipython3",
   "version": "3.6.6"
  }
 },
 "nbformat": 4,
 "nbformat_minor": 2
}
