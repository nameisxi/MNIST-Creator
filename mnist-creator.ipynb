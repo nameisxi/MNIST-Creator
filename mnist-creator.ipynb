{
 "cells": [
  {
   "cell_type": "code",
   "execution_count": 60,
   "metadata": {},
   "outputs": [],
   "source": [
    "import numpy as np\n",
    "import math\n",
    "from PIL import Image\n",
    "import cv2\n",
    "from matplotlib import pyplot as plt"
   ]
  },
  {
   "cell_type": "code",
   "execution_count": 25,
   "metadata": {},
   "outputs": [],
   "source": [
    "def get_as_png(file_name):\n",
    "    '''Converts the input image to PNG format.'''\n",
    "    image = Image.open(file_name)\n",
    "    image.save('image-to-classify.png')\n",
    "    image = Image.open('image-to-classify.png')\n",
    "    return image"
   ]
  },
  {
   "cell_type": "code",
   "execution_count": 27,
   "metadata": {},
   "outputs": [],
   "source": [
    "def crop(file_name):\n",
    "    im = cv2.imread(file_name)\n",
    "    imgray = cv2.cvtColor(im,cv2.COLOR_BGR2GRAY)\n",
    "    imgray = cv2.blur(imgray,(15,15))\n",
    "    ret,thresh = cv2.threshold(imgray,math.floor(np.average(imgray)),255,cv2.THRESH_BINARY_INV)\n",
    "    dilated = cv2.morphologyEx(thresh, cv2.MORPH_OPEN, cv2.getStructuringElement(cv2.MORPH_ELLIPSE,(10,10)))\n",
    "    _, contours, _ = cv2.findContours(dilated,cv2.RETR_LIST,cv2.CHAIN_APPROX_SIMPLE)\n",
    "    \n",
    "    height, width, channels = im.shape\n",
    "    \n",
    "    new_contours = []\n",
    "    for c in contours:\n",
    "        if cv2.contourArea(c) < (width * height):\n",
    "            new_contours.append(c)\n",
    "    \n",
    "    best_box = [-1, -1, -1, -1]\n",
    "    for c in new_contours:\n",
    "        x,y,w,h = cv2.boundingRect(c)\n",
    "        if (w * h) > (best_box[2] * best_box[3]):\n",
    "            best_box = [x, y, w, h]\n",
    "    print(best_box)\n",
    "    final_img = im[best_box[1]:best_box[3], best_box[0]:best_box[2]]\n",
    "    cv2.imwrite('result.png', final_img)"
   ]
  },
  {
   "cell_type": "code",
   "execution_count": 127,
   "metadata": {},
   "outputs": [],
   "source": [
    "def resize_longest_edge(file_name):\n",
    "    '''Resizes the longest edge to 28 pixels by subsampling the pixels and\n",
    "       scales the shorter edge accordingly.\n",
    "    '''\n",
    "    image = cv2.imread(file_name)\n",
    "    height, width, channels = image.shape\n",
    "    if height >= width:\n",
    "        new_width = int((width / height) * 28)\n",
    "        print(\"Uusi Leveys:\", new_width)\n",
    "        resized = cv2.resize(image, (new_width, 28))\n",
    "        cv2.imwrite('resized.png', resized)\n",
    "        return\n",
    "    new_height = int((height / width) * width)\n",
    "    print(\"Uusi korkeus:\", new_height)\n",
    "    resized = cv2.resize(image, (28, new_height))\n",
    "    cv2.imwrite('resized.png', resized)"
   ]
  },
  {
   "cell_type": "code",
   "execution_count": 128,
   "metadata": {},
   "outputs": [],
   "source": [
    "def sharpen_pixels(image):\n",
    "    '''Sharpens pixels using a Gaussian operator of the radius and\n",
    "       standard deviation of 1.0.\n",
    "    '''\n",
    "    pass"
   ]
  },
  {
   "cell_type": "code",
   "execution_count": 129,
   "metadata": {},
   "outputs": [],
   "source": [
    "def resize_shortest_edge(image):\n",
    "    '''Extends the shortest edge to 28 pixels and centers the new image.'''\n",
    "    pass"
   ]
  },
  {
   "cell_type": "code",
   "execution_count": 130,
   "metadata": {},
   "outputs": [],
   "source": [
    "def negate_intensities(image):\n",
    "    '''Negates the intensities of pixels.'''\n",
    "    pass"
   ]
  },
  {
   "cell_type": "code",
   "execution_count": 131,
   "metadata": {},
   "outputs": [],
   "source": [
    "def convert_to_grayscale(image):\n",
    "    '''Converts given pixels to 8-bit grayscale pixels.'''\n",
    "    pass"
   ]
  },
  {
   "cell_type": "code",
   "execution_count": 132,
   "metadata": {},
   "outputs": [],
   "source": [
    "#png = get_as_png('test-shirt2.jpg')"
   ]
  },
  {
   "cell_type": "code",
   "execution_count": 133,
   "metadata": {},
   "outputs": [],
   "source": [
    "#trimmed_edges = trim_edges(png)"
   ]
  },
  {
   "cell_type": "code",
   "execution_count": 134,
   "metadata": {
    "scrolled": false
   },
   "outputs": [],
   "source": [
    "#crop('test-shirt4.jpg')"
   ]
  },
  {
   "cell_type": "code",
   "execution_count": 135,
   "metadata": {},
   "outputs": [],
   "source": [
    "_ = get_as_png('test-shirt5.jpg')\n"
   ]
  },
  {
   "cell_type": "code",
   "execution_count": 136,
   "metadata": {},
   "outputs": [
    {
     "name": "stdout",
     "output_type": "stream",
     "text": [
      "Uusi Leveys: 25\n"
     ]
    }
   ],
   "source": [
    "resize_longest_edge('image-to-classify.png')"
   ]
  },
  {
   "cell_type": "code",
   "execution_count": 137,
   "metadata": {},
   "outputs": [],
   "source": [
    "image = Image.open('resized.png')"
   ]
  },
  {
   "cell_type": "code",
   "execution_count": 138,
   "metadata": {},
   "outputs": [
    {
     "data": {
      "text/plain": [
       "(28, 25, 3)"
      ]
     },
     "execution_count": 138,
     "metadata": {},
     "output_type": "execute_result"
    }
   ],
   "source": [
    "image_data = np.asarray(image)\n",
    "image_data.shape"
   ]
  },
  {
   "cell_type": "code",
   "execution_count": 139,
   "metadata": {},
   "outputs": [
    {
     "data": {
      "text/plain": [
       "<matplotlib.image.AxesImage at 0x7f3acffc18d0>"
      ]
     },
     "execution_count": 139,
     "metadata": {},
     "output_type": "execute_result"
    },
    {
     "data": {
      "image/png": "[encoded data removed]",
      "text/plain": [
       "<Figure size 432x288 with 1 Axes>"
      ]
     },
     "metadata": {},
     "output_type": "display_data"
    }
   ],
   "source": [
    "plt.imshow(image_data)"
   ]
  },
  {
   "cell_type": "code",
   "execution_count": null,
   "metadata": {},
   "outputs": [],
   "source": []
  }
 ],
 "metadata": {
  "kernelspec": {
   "display_name": "Python 3",
   "language": "python",
   "name": "python3"
  },
  "language_info": {
   "codemirror_mode": {
    "name": "ipython",
    "version": 3
   },
   "file_extension": ".py",
   "mimetype": "text/x-python",
   "name": "python",
   "nbconvert_exporter": "python",
   "pygments_lexer": "ipython3",
   "version": "3.6.5"
  }
 },
 "nbformat": 4,
 "nbformat_minor": 2
}
